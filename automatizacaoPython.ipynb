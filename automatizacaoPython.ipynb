{
 "cells": [
  {
   "cell_type": "markdown",
   "metadata": {},
   "source": [
    "# Automatizaçao de processos repetitivos"
   ]
  },
  {
   "cell_type": "code",
   "execution_count": 1,
   "metadata": {},
   "outputs": [],
   "source": [
    "import pyautogui    \n",
    "import time\n",
    "from MyFiles import Security"
   ]
  },
  {
   "cell_type": "code",
   "execution_count": 2,
   "metadata": {},
   "outputs": [
    {
     "data": {
      "text/plain": [
       "Point(x=403, y=341)"
      ]
     },
     "execution_count": 2,
     "metadata": {},
     "output_type": "execute_result"
    }
   ],
   "source": [
    "pyautogui.position() #get mouse position"
   ]
  },
  {
   "cell_type": "code",
   "execution_count": 3,
   "metadata": {},
   "outputs": [],
   "source": [
    "pyautogui.KEYBOARD_KEYS # keyboard keys\n",
    "pyautogui.press('win')  # win button display"
   ]
  },
  {
   "cell_type": "markdown",
   "metadata": {},
   "source": [
    "### First example- Open Link"
   ]
  },
  {
   "cell_type": "code",
   "execution_count": 4,
   "metadata": {},
   "outputs": [],
   "source": [
    "pyautogui.alert(\"Automatic Processing, mouse and Keyboard-> don't touch\")\n",
    "pyautogui.PAUSE=2               #wait 4 secounds\n",
    "pyautogui.press('winleft')\n",
    "pyautogui.write('chrome')\n",
    "pyautogui.press('enter')\n",
    "pyautogui.write(r'https://github.com/Bruno-H-Neves')\n",
    "time.sleep(2)  \n",
    "pyautogui.press('enter')\n",
    "pyautogui.moveTo(x=905, y=210)\n",
    "pyautogui.mouseDown() \n",
    "pyautogui.mouseUp()\n",
    "pyautogui.moveTo(x=917, y=272)\n",
    "time.sleep(2) \n",
    "pyautogui.alert(\"End Automatic processing, after clicking OK the page 'https://github.com/Bruno-H-Neves' close automatically\")\n",
    "time.sleep(2) \n",
    "pyautogui.hotkey('alt','f4')\n",
    "\n",
    "\n"
   ]
  },
  {
   "cell_type": "markdown",
   "metadata": {},
   "source": [
    "## Open Notepad "
   ]
  },
  {
   "cell_type": "code",
   "execution_count": 6,
   "metadata": {},
   "outputs": [
    {
     "data": {
      "text/plain": [
       "'OK'"
      ]
     },
     "execution_count": 6,
     "metadata": {},
     "output_type": "execute_result"
    }
   ],
   "source": [
    "pyautogui.alert(\"Automatic processing, don't touch\")\n",
    "pyautogui.PAUSE=2               #wait 4 secounds\n",
    "pyautogui.press('winleft')\n",
    "pyautogui.write('notepad')\n",
    "pyautogui.press('enter')\n",
    "pyautogui.write('first automatic line')\n",
    "pyautogui.hotkey('ctrl','p')\n",
    "pyautogui.alert(\"End Automatic processing\")\n"
   ]
  },
  {
   "cell_type": "code",
   "execution_count": 7,
   "metadata": {},
   "outputs": [],
   "source": [
    "def page(caminho,x1,y1,x2,y2,x3,y3):\n",
    "    pyautogui.write(caminho)\n",
    "    time.sleep(2) \n",
    "    pyautogui.press('enter')\n",
    "    pyautogui.moveTo(x1,y1)\n",
    "    pyautogui.mouseDown()\n",
    "    time.sleep(1)\n",
    "    pyautogui.mouseUp()\n",
    "    pyautogui.moveTo(x2,y2)\n",
    "    pyautogui.mouseDown()\n",
    "    time.sleep(0.1)\n",
    "    pyautogui.mouseUp()\n",
    "    pyautogui.moveTo(x3,y3)\n",
    "    pyautogui.mouseDown()\n",
    "    time.sleep(0.1)\n",
    "    pyautogui.mouseUp()"
   ]
  },
  {
   "cell_type": "code",
   "execution_count": 8,
   "metadata": {},
   "outputs": [
    {
     "data": {
      "text/plain": [
       "'OK'"
      ]
     },
     "execution_count": 8,
     "metadata": {},
     "output_type": "execute_result"
    }
   ],
   "source": [
    "Sec=Security()\n",
    "\n",
    "pyautogui.alert(\"Automatic processing, don't touch\")\n",
    "pyautogui.PAUSE=2              #wait 4 secounds\n",
    "pyautogui.press('winleft')\n",
    "pyautogui.write('chrome')\n",
    "pyautogui.press('enter')\n",
    "file_aux=Sec.Electricity_Market_files[0]\n",
    "for i in range(32):\n",
    "    if i>19:\n",
    "        file= '%s%s' %(file_aux,i) \n",
    "        page(file,x1=1131, y1=296,x2=1114, y2=385,x3=898, y3=52)\n",
    "\n",
    "file_aux=Sec.Electricity_Market_files[1]\n",
    "for i in range(32):\n",
    "    file= '%s%s' %(file_aux,i) \n",
    "    page(file,x1=1131, y1=296,x2=1114, y2=385,x3=898, y3=52)\n",
    "pyautogui.alert(\"Automatic processing finished\")\n",
    "\n",
    "\n"
   ]
  }
 ],
 "metadata": {
  "interpreter": {
   "hash": "b3ba2566441a7c06988d0923437866b63cedc61552a5af99d1f4fb67d367b25f"
  },
  "kernelspec": {
   "display_name": "Python 3.8.8 64-bit ('base': conda)",
   "name": "python3"
  },
  "language_info": {
   "codemirror_mode": {
    "name": "ipython",
    "version": 3
   },
   "file_extension": ".py",
   "mimetype": "text/x-python",
   "name": "python",
   "nbconvert_exporter": "python",
   "pygments_lexer": "ipython3",
   "version": "3.8.8"
  },
  "orig_nbformat": 4
 },
 "nbformat": 4,
 "nbformat_minor": 2
}
